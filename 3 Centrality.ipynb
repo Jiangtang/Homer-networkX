{
 "cells": [
  {
   "cell_type": "code",
   "execution_count": 1,
   "metadata": {
    "collapsed": false
   },
   "outputs": [
    {
     "name": "stdout",
     "output_type": "stream",
     "text": [
      "Fri Sep 30 2016 \n",
      "\n",
      "CPython 2.7.12\n",
      "IPython 4.2.0\n",
      "\n",
      "networkx 1.11\n"
     ]
    }
   ],
   "source": [
    "%reload_ext watermark\n",
    "%watermark -p networkx -v -n"
   ]
  },
  {
   "cell_type": "code",
   "execution_count": 2,
   "metadata": {
    "collapsed": false
   },
   "outputs": [],
   "source": [
    "import networkx as nx\n",
    "import matplotlib.pyplot as plt\n",
    "%matplotlib inline\n",
    "\n",
    "G = nx.read_gexf('data/homer.gexf')"
   ]
  },
  {
   "cell_type": "markdown",
   "metadata": {},
   "source": [
    "# Quick Results"
   ]
  },
  {
   "cell_type": "code",
   "execution_count": 3,
   "metadata": {
    "collapsed": false
   },
   "outputs": [
    {
     "data": {
      "text/plain": [
       "[('HT', 99),\n",
       " ('AC', 77),\n",
       " ('AJ', 65),\n",
       " ('PA', 61),\n",
       " ('ME', 56),\n",
       " ('AG', 55),\n",
       " ('ZE', 54),\n",
       " ('OD', 52),\n",
       " ('DI', 50),\n",
       " ('AL', 45)]"
      ]
     },
     "execution_count": 3,
     "metadata": {},
     "output_type": "execute_result"
    }
   ],
   "source": [
    "\n",
    "sorted(G.degree().items(), key=lambda x:x[1], reverse=True)[:10]"
   ]
  },
  {
   "cell_type": "code",
   "execution_count": 4,
   "metadata": {
    "collapsed": false
   },
   "outputs": [
    {
     "data": {
      "text/plain": [
       "[('HT', 0.4817001316655694),\n",
       " ('AC', 0.4517239782689221),\n",
       " ('AJ', 0.4486220110361741),\n",
       " ('ME', 0.4359004527582509),\n",
       " ('AG', 0.43481251485619204),\n",
       " ('ID', 0.424914343786295),\n",
       " ('PA', 0.42250981637602497),\n",
       " ('AE', 0.42182779891617667),\n",
       " ('DI', 0.42013234956361967),\n",
       " ('OD', 0.4194579798211419)]"
      ]
     },
     "execution_count": 4,
     "metadata": {},
     "output_type": "execute_result"
    }
   ],
   "source": [
    "sorted(nx.closeness_centrality(G).items(), key=lambda x: x[1], reverse=True)[:10]"
   ]
  },
  {
   "cell_type": "code",
   "execution_count": 5,
   "metadata": {
    "collapsed": false
   },
   "outputs": [
    {
     "data": {
      "text/plain": [
       "[('HT', 0.19131431268202634),\n",
       " ('AC', 0.14640047681018026),\n",
       " ('ZE', 0.12081717159174206),\n",
       " ('PA', 0.11723025111218698),\n",
       " ('DI', 0.09568780719639298),\n",
       " ('AJ', 0.08282840466535288),\n",
       " ('AG', 0.07800112358900067),\n",
       " ('OD', 0.07390508548135778),\n",
       " ('NE', 0.0634385980129927),\n",
       " ('TU', 0.0601215568703468)]"
      ]
     },
     "execution_count": 5,
     "metadata": {},
     "output_type": "execute_result"
    }
   ],
   "source": [
    "sorted(nx.betweenness_centrality(G).items(), key=lambda x: x[1], reverse=True)[:10]"
   ]
  },
  {
   "cell_type": "code",
   "execution_count": 6,
   "metadata": {
    "collapsed": false
   },
   "outputs": [
    {
     "data": {
      "text/plain": [
       "[('HT', 0.27326721348860916),\n",
       " ('AJ', 0.243707357565812),\n",
       " ('ME', 0.2226564876424226),\n",
       " ('AC', 0.21454142287646888),\n",
       " ('AG', 0.1971559650809237),\n",
       " ('ID', 0.1912913342040648),\n",
       " ('AE', 0.18826433159201086),\n",
       " ('DI', 0.18005083352230003),\n",
       " ('OD', 0.1741882523249545),\n",
       " ('MR', 0.17065169416719142)]"
      ]
     },
     "execution_count": 6,
     "metadata": {},
     "output_type": "execute_result"
    }
   ],
   "source": [
    "sorted(nx.eigenvector_centrality_numpy(G).items(), key=lambda x: x[1], reverse=True)[:10]"
   ]
  },
  {
   "cell_type": "code",
   "execution_count": 7,
   "metadata": {
    "collapsed": false
   },
   "outputs": [
    {
     "data": {
      "text/plain": [
       "[('HT', 304.15),\n",
       " ('AC', 285.1833333333336),\n",
       " ('AJ', 279.93333333333385),\n",
       " ('ME', 272.13333333333384),\n",
       " ('AG', 271.4666666666671),\n",
       " ('PA', 267.75000000000045),\n",
       " ('ZE', 263.60000000000036),\n",
       " ('OD', 263.4666666666673),\n",
       " ('DI', 263.0500000000008),\n",
       " ('ID', 261.71666666666715)]"
      ]
     },
     "execution_count": 7,
     "metadata": {},
     "output_type": "execute_result"
    }
   ],
   "source": [
    "sorted(nx.harmonic_centrality(G).items(), key=lambda x: x[1], reverse=True)[:10]"
   ]
  },
  {
   "cell_type": "markdown",
   "metadata": {
    "slideshow": {
     "slide_type": "slide"
    }
   },
   "source": [
    "# Centrality\n",
    "\n",
    "- Definition of Centrality\n",
    "- Compare and contrast popular centrality measures on dataset\n",
    "    - Degree  :   \n",
    "    - Closeness ： \n",
    "    - Betweenness: \n",
    "    - Eigenvector\n",
    "\n",
    "<img width=\"500\" src=\"https://upload.wikimedia.org/wikipedia/commons/thumb/6/60/Graph_betweenness.svg/2000px-Graph_betweenness.svg.png\">"
   ]
  },
  {
   "cell_type": "markdown",
   "metadata": {
    "slideshow": {
     "slide_type": "slide"
    }
   },
   "source": [
    "## Degree Centrality\n",
    "\n",
    "The __degree__ of a node is the number of other nodes to which it is connected. \n",
    "\n",
    "![](https://www.openabm.org/files/books/1928/fig102.png)\n",
    "\n",
    "NetworkX's degree centrality is calculated by taking the degree of the node and dividing by `n-1` where where `n` is the number of nodes in `G`.\n",
    "\n",
    "$$ {C_D (u)} = \\frac{deg(u)}{{n-1}} $$\n",
    "\n",
    "⚠️ __NOTE__: `In a directed graph, both in-degree and out-degree centrality can be calculated.`"
   ]
  },
  {
   "cell_type": "markdown",
   "metadata": {
    "slideshow": {
     "slide_type": "skip"
    }
   },
   "source": [
    "Let's find the degree of our main character `Grey`."
   ]
  },
  {
   "cell_type": "code",
   "execution_count": 8,
   "metadata": {
    "collapsed": false,
    "slideshow": {
     "slide_type": "skip"
    }
   },
   "outputs": [
    {
     "data": {
      "text/plain": [
       "99"
      ]
     },
     "execution_count": 8,
     "metadata": {},
     "output_type": "execute_result"
    }
   ],
   "source": [
    "G.degree(\"HT\")  #Hector"
   ]
  },
  {
   "cell_type": "code",
   "execution_count": 9,
   "metadata": {
    "collapsed": false
   },
   "outputs": [
    {
     "data": {
      "text/plain": [
       "77"
      ]
     },
     "execution_count": 9,
     "metadata": {},
     "output_type": "execute_result"
    }
   ],
   "source": [
    "G.degree(\"AC\")  #Achilles"
   ]
  },
  {
   "cell_type": "markdown",
   "metadata": {
    "slideshow": {
     "slide_type": "skip"
    }
   },
   "source": [
    "Likewise, we can find the degree of each cast member."
   ]
  },
  {
   "cell_type": "code",
   "execution_count": 10,
   "metadata": {
    "collapsed": false
   },
   "outputs": [
    {
     "data": {
      "text/plain": [
       "[('HT', 99),\n",
       " ('AC', 77),\n",
       " ('AJ', 65),\n",
       " ('PA', 61),\n",
       " ('ME', 56),\n",
       " ('AG', 55),\n",
       " ('ZE', 54),\n",
       " ('OD', 52),\n",
       " ('DI', 50),\n",
       " ('AL', 45)]"
      ]
     },
     "execution_count": 10,
     "metadata": {},
     "output_type": "execute_result"
    }
   ],
   "source": [
    "# Here's the top 5. version 1.x\n",
    "sorted(G.degree().items(), key=lambda x:x[1], reverse=True)[:10]\n"
   ]
  },
  {
   "cell_type": "code",
   "execution_count": 11,
   "metadata": {
    "collapsed": false
   },
   "outputs": [],
   "source": [
    "# Here's the top 5. version 2.x\n",
    "#b = dict(list(G.degree()))\n",
    "#sorted(b.items(), key=lambda x:x[1], reverse=True)[:5]"
   ]
  },
  {
   "cell_type": "markdown",
   "metadata": {
    "slideshow": {
     "slide_type": "notes"
    }
   },
   "source": [
    "While knowing the raw number is great, most centrality measures are _normalized_ between zero and one so that they can be more easily compared to one another.\n",
    "\n",
    "For the **degree centrality** measure, the normalized interpretion is really intuitive:  \n",
    "\n",
    "> _What percentage of nodes is this node connected to?_\n",
    "\n",
    "Or for our Grey's Anatomy example: \n",
    "\n",
    "> _What percentage of the cast has this character been invovled with?_\n",
    "\n",
    "\n"
   ]
  },
  {
   "cell_type": "markdown",
   "metadata": {
    "slideshow": {
     "slide_type": "skip"
    }
   },
   "source": [
    "Let's calculate the degree centrality for `Grey`."
   ]
  },
  {
   "cell_type": "code",
   "execution_count": 12,
   "metadata": {
    "collapsed": false,
    "slideshow": {
     "slide_type": "skip"
    }
   },
   "outputs": [
    {
     "name": "stdout",
     "output_type": "stream",
     "text": [
      "('Calculated degree centrality for HT:', 0.1767857142857143)\n",
      "('Networkx degree centrality for HT:', 0.17678571428571427)\n"
     ]
    }
   ],
   "source": [
    "b = dict(list(G.degree()))\n",
    "\n",
    "# Degree for the 'HT' node\n",
    "degree_HT = G.degree(\"HT\")  \n",
    "\n",
    "# Total number of nodes (excluding HT) \n",
    "total_nodes_minus_HT = len(G.degree())-1.  \n",
    "\n",
    "# Degree centrality for HT\n",
    "degree_centrality_HT = (degree_HT / total_nodes_minus_HT)\n",
    "print(\"Calculated degree centrality for HT:\", degree_centrality_HT)\n",
    "\n",
    "# Double check\n",
    "print(\"Networkx degree centrality for HT:\", nx.degree_centrality(G)[\"HT\"])\n"
   ]
  },
  {
   "cell_type": "markdown",
   "metadata": {
    "slideshow": {
     "slide_type": "skip"
    }
   },
   "source": [
    "Likewise, let's find the degree centrality for all characters."
   ]
  },
  {
   "cell_type": "code",
   "execution_count": 13,
   "metadata": {
    "collapsed": false,
    "slideshow": {
     "slide_type": "subslide"
    }
   },
   "outputs": [
    {
     "data": {
      "text/plain": [
       "[('HT', 0.17678571428571427),\n",
       " ('AC', 0.13749999999999998),\n",
       " ('AJ', 0.11607142857142856),\n",
       " ('PA', 0.10892857142857143),\n",
       " ('ME', 0.09999999999999999),\n",
       " ('AG', 0.09821428571428571),\n",
       " ('ZE', 0.09642857142857142),\n",
       " ('OD', 0.09285714285714286),\n",
       " ('DI', 0.08928571428571429),\n",
       " ('AL', 0.08035714285714285)]"
      ]
     },
     "execution_count": 13,
     "metadata": {},
     "output_type": "execute_result"
    }
   ],
   "source": [
    "# Top 5.  Percent of cast this character has been with.\n",
    "sorted(nx.degree_centrality(G).items(), key=lambda x: x[1], reverse=True)[:10]"
   ]
  },
  {
   "cell_type": "code",
   "execution_count": 14,
   "metadata": {
    "collapsed": false,
    "slideshow": {
     "slide_type": "subslide"
    }
   },
   "outputs": [],
   "source": [
    "# apply measurements back to Graph\n",
    "nx.set_node_attributes(G, 'degree centrality', nx.degree_centrality(G))"
   ]
  },
  {
   "cell_type": "code",
   "execution_count": 15,
   "metadata": {
    "collapsed": false,
    "slideshow": {
     "slide_type": "fragment"
    }
   },
   "outputs": [
    {
     "data": {
      "text/plain": [
       "{'degree centrality': 0.17678571428571427, 'label': 'HT'}"
      ]
     },
     "execution_count": 15,
     "metadata": {},
     "output_type": "execute_result"
    }
   ],
   "source": [
    "G.node['HT']"
   ]
  },
  {
   "cell_type": "markdown",
   "metadata": {
    "slideshow": {
     "slide_type": "slide"
    }
   },
   "source": [
    "## Closeness Centrality\n",
    "Closeness Centrality measures how many \"hops\" it would take to reach every other node in a network (taking the shortest path). It can be informally thought as 'average distance' to all other nodes.\n",
    "\n",
    "<img style=\"float: center\" src=\"https://toreopsahl.files.wordpress.com/2008/12/geodesic-n1.png?w=455\">\n",
    "\n",
    "In NetworkX, it the reciporical of of the *average* value, which normalizes the value in a 0 to 1 range. \n",
    "\n",
    "$$ C_C (u) = \\frac{n - 1}{\\sum_{v=1}^{n-1} d(v, u)} $$\n",
    "\n",
    "If you again take the reciporical of this, you'll find the *average* distance to all other nodes."
   ]
  },
  {
   "cell_type": "code",
   "execution_count": 16,
   "metadata": {
    "collapsed": false,
    "slideshow": {
     "slide_type": "skip"
    }
   },
   "outputs": [
    {
     "data": {
      "text/plain": [
       "{'01': 2,\n",
       " '02': 1,\n",
       " '03': 2,\n",
       " '04': 2,\n",
       " '05': 3,\n",
       " '06': 2,\n",
       " '07': 1,\n",
       " '08': 2,\n",
       " '09': 2,\n",
       " '0A': 2,\n",
       " '0B': 2,\n",
       " '0C': 2,\n",
       " '0D': 2,\n",
       " '0E': 3,\n",
       " '0F': 1,\n",
       " '0G': 1,\n",
       " '0H': 1,\n",
       " '0I': 2,\n",
       " '0J': 1,\n",
       " '0K': 2,\n",
       " '0L': 3,\n",
       " '0M': 2,\n",
       " '0N': 2,\n",
       " '0O': 2,\n",
       " '0P': 2,\n",
       " '0Q': 2,\n",
       " '0R': 2,\n",
       " '0S': 2,\n",
       " '0T': 2,\n",
       " '0U': 2,\n",
       " '0V': 2,\n",
       " '0W': 2,\n",
       " '0X': 2,\n",
       " '0Y': 2,\n",
       " '0Z': 2,\n",
       " '10': 3,\n",
       " '11': 2,\n",
       " '12': 2,\n",
       " '13': 2,\n",
       " '14': 2,\n",
       " '15': 2,\n",
       " '16': 3,\n",
       " '17': 2,\n",
       " '18': 2,\n",
       " '19': 2,\n",
       " '1A': 2,\n",
       " '1B': 2,\n",
       " '1C': 2,\n",
       " '1D': 2,\n",
       " '1E': 2,\n",
       " '1F': 2,\n",
       " '1G': 2,\n",
       " '1H': 2,\n",
       " '1I': 2,\n",
       " '1J': 2,\n",
       " '1K': 2,\n",
       " '1L': 3,\n",
       " '1M': 2,\n",
       " '1N': 2,\n",
       " '1O': 2,\n",
       " '1P': 2,\n",
       " '1Q': 2,\n",
       " '1R': 2,\n",
       " '1S': 2,\n",
       " '1T': 2,\n",
       " '1U': 2,\n",
       " '1V': 2,\n",
       " '1W': 2,\n",
       " '1X': 3,\n",
       " '1Y': 3,\n",
       " '1Z': 3,\n",
       " '20': 3,\n",
       " '21': 4,\n",
       " '22': 3,\n",
       " '23': 2,\n",
       " '24': 2,\n",
       " '25': 2,\n",
       " '26': 2,\n",
       " '27': 2,\n",
       " '28': 3,\n",
       " '29': 3,\n",
       " '2A': 3,\n",
       " '2B': 3,\n",
       " '2C': 2,\n",
       " '2D': 2,\n",
       " '2E': 2,\n",
       " '2F': 2,\n",
       " '2G': 3,\n",
       " '2H': 2,\n",
       " '2I': 1,\n",
       " '2J': 1,\n",
       " '2K': 1,\n",
       " '2L': 1,\n",
       " '2M': 2,\n",
       " '2N': 2,\n",
       " '2O': 2,\n",
       " '2P': 2,\n",
       " '2Q': 2,\n",
       " '2R': 2,\n",
       " '2S': 2,\n",
       " '2T': 2,\n",
       " '2U': 2,\n",
       " '2V': 2,\n",
       " '2W': 1,\n",
       " '2X': 1,\n",
       " '2Y': 2,\n",
       " '2Z': 2,\n",
       " '30': 1,\n",
       " '31': 1,\n",
       " '32': 2,\n",
       " '33': 2,\n",
       " '34': 2,\n",
       " '35': 2,\n",
       " '36': 2,\n",
       " '37': 2,\n",
       " '38': 2,\n",
       " '39': 2,\n",
       " '3A': 2,\n",
       " '3B': 2,\n",
       " '3C': 2,\n",
       " '3D': 2,\n",
       " '3E': 2,\n",
       " '3F': 2,\n",
       " '3G': 2,\n",
       " '3H': 2,\n",
       " '3I': 2,\n",
       " '3J': 2,\n",
       " '3K': 2,\n",
       " '3L': 2,\n",
       " '3M': 2,\n",
       " '3N': 2,\n",
       " '3O': 2,\n",
       " '3P': 2,\n",
       " '3Q': 2,\n",
       " '3R': 2,\n",
       " '3S': 3,\n",
       " '3T': 2,\n",
       " '3U': 1,\n",
       " '3V': 1,\n",
       " '3W': 2,\n",
       " '3X': 3,\n",
       " '3Y': 3,\n",
       " '3Z': 2,\n",
       " '40': 2,\n",
       " '41': 3,\n",
       " '42': 3,\n",
       " '43': 3,\n",
       " '44': 3,\n",
       " '45': 3,\n",
       " '46': 3,\n",
       " '47': 2,\n",
       " '48': 2,\n",
       " '49': 3,\n",
       " '4A': 1,\n",
       " '4B': 2,\n",
       " '4C': 3,\n",
       " '4F': 2,\n",
       " '4G': 2,\n",
       " '4H': 1,\n",
       " '4I': 1,\n",
       " '4J': 1,\n",
       " '4K': 1,\n",
       " '4L': 1,\n",
       " '4M': 3,\n",
       " '4N': 2,\n",
       " '4O': 3,\n",
       " '4P': 2,\n",
       " '4Q': 2,\n",
       " '4R': 3,\n",
       " '4S': 2,\n",
       " '4T': 2,\n",
       " '4U': 2,\n",
       " '4V': 2,\n",
       " '4W': 2,\n",
       " '4X': 2,\n",
       " '4Y': 2,\n",
       " '4Z': 2,\n",
       " '51': 4,\n",
       " '52': 4,\n",
       " '53': 2,\n",
       " '56': 3,\n",
       " '57': 3,\n",
       " '58': 2,\n",
       " '59': 1,\n",
       " '5A': 2,\n",
       " '5B': 2,\n",
       " '5C': 2,\n",
       " '5D': 1,\n",
       " '5E': 2,\n",
       " '5F': 2,\n",
       " '5G': 3,\n",
       " '5H': 3,\n",
       " '5I': 3,\n",
       " '5J': 2,\n",
       " '5K': 2,\n",
       " '5L': 3,\n",
       " '5M': 2,\n",
       " '5N': 3,\n",
       " '5O': 2,\n",
       " '5P': 1,\n",
       " '5Q': 3,\n",
       " '5R': 2,\n",
       " '5S': 1,\n",
       " '5T': 1,\n",
       " '5U': 2,\n",
       " '5V': 2,\n",
       " '5W': 1,\n",
       " '5X': 2,\n",
       " '5Y': 2,\n",
       " '5Z': 2,\n",
       " '60': 2,\n",
       " '61': 2,\n",
       " '62': 2,\n",
       " '63': 2,\n",
       " '64': 2,\n",
       " '65': 2,\n",
       " '66': 2,\n",
       " '67': 2,\n",
       " '68': 2,\n",
       " '69': 2,\n",
       " '6A': 2,\n",
       " '6B': 2,\n",
       " '6C': 2,\n",
       " '6D': 3,\n",
       " '6E': 3,\n",
       " '6F': 3,\n",
       " '6G': 2,\n",
       " '6H': 2,\n",
       " '6I': 2,\n",
       " '6J': 2,\n",
       " '6K': 3,\n",
       " '6L': 2,\n",
       " '6M': 2,\n",
       " '6N': 2,\n",
       " '6O': 1,\n",
       " '6P': 2,\n",
       " '6Q': 2,\n",
       " '6R': 2,\n",
       " '6S': 2,\n",
       " '6T': 2,\n",
       " '6U': 2,\n",
       " '6V': 3,\n",
       " '6W': 2,\n",
       " '6X': 2,\n",
       " '6Y': 2,\n",
       " '6Z': 1,\n",
       " '70': 1,\n",
       " '71': 1,\n",
       " '72': 1,\n",
       " '73': 1,\n",
       " '74': 1,\n",
       " '75': 1,\n",
       " '76': 1,\n",
       " '77': 1,\n",
       " '78': 2,\n",
       " '79': 3,\n",
       " '7A': 5,\n",
       " '7B': 4,\n",
       " '7C': 3,\n",
       " '7D': 2,\n",
       " '7E': 2,\n",
       " '7F': 2,\n",
       " '7G': 2,\n",
       " '7H': 4,\n",
       " '7I': 2,\n",
       " '7J': 3,\n",
       " '7K': 3,\n",
       " '7L': 2,\n",
       " '7M': 2,\n",
       " '7R': 2,\n",
       " '7S': 2,\n",
       " '7T': 2,\n",
       " '7U': 2,\n",
       " '7V': 3,\n",
       " '7W': 2,\n",
       " '7X': 3,\n",
       " '7Y': 2,\n",
       " '7Z': 2,\n",
       " '80': 1,\n",
       " '81': 2,\n",
       " '82': 3,\n",
       " '83': 2,\n",
       " '84': 3,\n",
       " '85': 4,\n",
       " '86': 2,\n",
       " '87': 3,\n",
       " '88': 2,\n",
       " '89': 1,\n",
       " '8A': 1,\n",
       " '8B': 1,\n",
       " '8C': 1,\n",
       " '8D': 1,\n",
       " '8E': 1,\n",
       " '8F': 1,\n",
       " '8G': 2,\n",
       " '8H': 2,\n",
       " '8I': 2,\n",
       " '8J': 2,\n",
       " '8K': 2,\n",
       " '8L': 3,\n",
       " '8M': 2,\n",
       " '8N': 2,\n",
       " '8O': 2,\n",
       " '8P': 2,\n",
       " '8Q': 3,\n",
       " '8R': 2,\n",
       " '8T': 2,\n",
       " '8U': 2,\n",
       " '8V': 2,\n",
       " '8W': 2,\n",
       " '8X': 2,\n",
       " '90': 3,\n",
       " '92': 2,\n",
       " '93': 2,\n",
       " '94': 2,\n",
       " '95': 2,\n",
       " '96': 2,\n",
       " '97': 3,\n",
       " '98': 2,\n",
       " '9A': 2,\n",
       " '9B': 1,\n",
       " '9C': 2,\n",
       " '9D': 2,\n",
       " '9E': 2,\n",
       " '9I': 3,\n",
       " '9J': 3,\n",
       " '9K': 2,\n",
       " '9L': 2,\n",
       " '9M': 2,\n",
       " '9N': 2,\n",
       " '9O': 1,\n",
       " '9R': 2,\n",
       " '9S': 2,\n",
       " '9T': 2,\n",
       " '9U': 1,\n",
       " '9V': 2,\n",
       " '9W': 2,\n",
       " '9X': 2,\n",
       " '9Y': 2,\n",
       " '9Z': 2,\n",
       " 'A0': 2,\n",
       " 'A1': 2,\n",
       " 'A2': 2,\n",
       " 'AA': 2,\n",
       " 'AB': 4,\n",
       " 'AC': 1,\n",
       " 'AD': 1,\n",
       " 'AE': 1,\n",
       " 'AF': 1,\n",
       " 'AG': 1,\n",
       " 'AH': 1,\n",
       " 'AI': 2,\n",
       " 'AJ': 1,\n",
       " 'AL': 1,\n",
       " 'AM': 2,\n",
       " 'AN': 2,\n",
       " 'AO': 1,\n",
       " 'AP': 1,\n",
       " 'AR': 1,\n",
       " 'AS': 3,\n",
       " 'AT': 1,\n",
       " 'AU': 3,\n",
       " 'AX': 1,\n",
       " 'AZ': 2,\n",
       " 'B0': 1,\n",
       " 'B1': 2,\n",
       " 'B2': 2,\n",
       " 'BL': 2,\n",
       " 'BO': 2,\n",
       " 'BR': 2,\n",
       " 'C0': 2,\n",
       " 'C1': 2,\n",
       " 'C2': 2,\n",
       " 'CA': 2,\n",
       " 'CH': 2,\n",
       " 'CI': 3,\n",
       " 'CL': 2,\n",
       " 'CM': 3,\n",
       " 'CN': 2,\n",
       " 'CR': 2,\n",
       " 'CS': 1,\n",
       " 'D0': 2,\n",
       " 'D1': 2,\n",
       " 'D2': 2,\n",
       " 'DE': 2,\n",
       " 'DI': 1,\n",
       " 'DM': 2,\n",
       " 'DN': 2,\n",
       " 'DP': 2,\n",
       " 'DT': 2,\n",
       " 'E0': 2,\n",
       " 'E1': 2,\n",
       " 'E2': 2,\n",
       " 'EA': 2,\n",
       " 'EB': 2,\n",
       " 'EE': 2,\n",
       " 'EF': 2,\n",
       " 'EM': 2,\n",
       " 'EN': 1,\n",
       " 'EO': 2,\n",
       " 'EP': 2,\n",
       " 'ER': 2,\n",
       " 'EU': 1,\n",
       " 'F0': 2,\n",
       " 'F1': 2,\n",
       " 'F2': 2,\n",
       " 'FD': 2,\n",
       " 'FY': 4,\n",
       " 'G0': 3,\n",
       " 'G1': 2,\n",
       " 'G2': 2,\n",
       " 'GL': 1,\n",
       " 'GR': 2,\n",
       " 'GS': 1,\n",
       " 'H0': 4,\n",
       " 'H1': 2,\n",
       " 'H2': 3,\n",
       " 'HA': 2,\n",
       " 'HB': 2,\n",
       " 'HC': 1,\n",
       " 'HD': 1,\n",
       " 'HE': 2,\n",
       " 'HL': 1,\n",
       " 'HM': 1,\n",
       " 'HN': 1,\n",
       " 'HP': 2,\n",
       " 'HR': 2,\n",
       " 'HT': 0,\n",
       " 'I0': 2,\n",
       " 'I1': 2,\n",
       " 'I2': 2,\n",
       " 'IA': 1,\n",
       " 'ID': 1,\n",
       " 'IR': 1,\n",
       " 'J0': 3,\n",
       " 'J1': 2,\n",
       " 'J2': 2,\n",
       " 'K0': 2,\n",
       " 'K1': 1,\n",
       " 'K2': 3,\n",
       " 'L0': 2,\n",
       " 'L1': 1,\n",
       " 'L2': 2,\n",
       " 'LA': 1,\n",
       " 'LE': 2,\n",
       " 'LT': 1,\n",
       " 'LY': 2,\n",
       " 'M0': 2,\n",
       " 'M1': 1,\n",
       " 'M2': 2,\n",
       " 'MC': 2,\n",
       " 'ME': 1,\n",
       " 'MG': 1,\n",
       " 'MO': 2,\n",
       " 'MR': 2,\n",
       " 'MT': 1,\n",
       " 'N0': 2,\n",
       " 'N1': 3,\n",
       " 'N2': 2,\n",
       " 'NE': 1,\n",
       " 'NI': 3,\n",
       " 'NO': 2,\n",
       " 'NR': 3,\n",
       " 'O0': 2,\n",
       " 'O1': 1,\n",
       " 'O2': 2,\n",
       " 'OC': 2,\n",
       " 'OD': 1,\n",
       " 'OG': 2,\n",
       " 'OT': 2,\n",
       " 'P0': 2,\n",
       " 'P1': 1,\n",
       " 'P2': 2,\n",
       " 'PA': 1,\n",
       " 'PB': 2,\n",
       " 'PC': 2,\n",
       " 'PD': 1,\n",
       " 'PE': 2,\n",
       " 'PH': 2,\n",
       " 'PL': 2,\n",
       " 'PN': 2,\n",
       " 'PO': 2,\n",
       " 'PP': 2,\n",
       " 'PR': 1,\n",
       " 'PS': 1,\n",
       " 'PT': 2,\n",
       " 'PX': 2,\n",
       " 'Q0': 2,\n",
       " 'Q1': 3,\n",
       " 'Q2': 2,\n",
       " 'R0': 2,\n",
       " 'R1': 3,\n",
       " 'R2': 2,\n",
       " 'RA': 3,\n",
       " 'RH': 2,\n",
       " 'RO': 3,\n",
       " 'RU': 2,\n",
       " 'S0': 2,\n",
       " 'S1': 3,\n",
       " 'S2': 2,\n",
       " 'SA': 1,\n",
       " 'SE': 2,\n",
       " 'SF': 2,\n",
       " 'SI': 3,\n",
       " 'SL': 2,\n",
       " 'SP': 3,\n",
       " 'ST': 2,\n",
       " 'T0': 2,\n",
       " 'T1': 2,\n",
       " 'T2': 2,\n",
       " 'TA': 1,\n",
       " 'TE': 2,\n",
       " 'TH': 2,\n",
       " 'TI': 2,\n",
       " 'TL': 2,\n",
       " 'TM': 2,\n",
       " 'TR': 2,\n",
       " 'TS': 1,\n",
       " 'TT': 3,\n",
       " 'TU': 1,\n",
       " 'TY': 2,\n",
       " 'U0': 2,\n",
       " 'U1': 2,\n",
       " 'U2': 2,\n",
       " 'V0': 2,\n",
       " 'V1': 2,\n",
       " 'V2': 2,\n",
       " 'W0': 2,\n",
       " 'W1': 2,\n",
       " 'W2': 2,\n",
       " 'WI': 5,\n",
       " 'X0': 2,\n",
       " 'X1': 2,\n",
       " 'X2': 2,\n",
       " 'XA': 2,\n",
       " 'XB': 1,\n",
       " 'Y0': 2,\n",
       " 'Y1': 2,\n",
       " 'Z0': 3,\n",
       " 'Z1': 2,\n",
       " 'ZE': 1,\n",
       " 'ZF': 2}"
      ]
     },
     "execution_count": 16,
     "metadata": {},
     "output_type": "execute_result"
    }
   ],
   "source": [
    "# Shortest path between Grey and other characters\n",
    "HT_shortest_path = nx.shortest_path_length(G)['HT']\n",
    "HT_shortest_path"
   ]
  },
  {
   "cell_type": "code",
   "execution_count": 17,
   "metadata": {
    "collapsed": false,
    "slideshow": {
     "slide_type": "skip"
    }
   },
   "outputs": [
    {
     "name": "stdout",
     "output_type": "stream",
     "text": [
      "('Calculated closeness centrality for HT:', 0.5161290322580645)\n",
      "('Networkx closeness centrality for HT:', 0.4817001316655694)\n"
     ]
    }
   ],
   "source": [
    "# Sum of the shortest paths to all other characters\n",
    "HT_sum_shortest_path = sum(HT_shortest_path.values())  # 77\n",
    "\n",
    "# Closeness centrality for HT\n",
    "closeness_centrality_HT = (total_nodes_minus_HT / HT_sum_shortest_path)\n",
    "print(\"Calculated closeness centrality for HT:\", closeness_centrality_HT)\n",
    "\n",
    "# Double check\n",
    "print(\"Networkx closeness centrality for HT:\", nx.closeness_centrality(G)[\"HT\"])\n",
    "\n"
   ]
  },
  {
   "cell_type": "markdown",
   "metadata": {
    "slideshow": {
     "slide_type": "skip"
    }
   },
   "source": [
    "Interesting...our calculated measure is not the same as the one in NetworkX.  \n",
    "\n",
    "_What happened here?_\n",
    "\n",
    "This error occured because __the character relationship graph is not fully connected.__ (i.e., there are groups of characters that do not have relationships with one another)."
   ]
  },
  {
   "cell_type": "code",
   "execution_count": 18,
   "metadata": {
    "collapsed": false,
    "slideshow": {
     "slide_type": "skip"
    }
   },
   "outputs": [
    {
     "data": {
      "text/plain": [
       "[{'01',\n",
       "  '02',\n",
       "  '03',\n",
       "  '04',\n",
       "  '05',\n",
       "  '06',\n",
       "  '07',\n",
       "  '08',\n",
       "  '09',\n",
       "  '0A',\n",
       "  '0B',\n",
       "  '0C',\n",
       "  '0D',\n",
       "  '0E',\n",
       "  '0F',\n",
       "  '0G',\n",
       "  '0H',\n",
       "  '0I',\n",
       "  '0J',\n",
       "  '0K',\n",
       "  '0L',\n",
       "  '0M',\n",
       "  '0N',\n",
       "  '0O',\n",
       "  '0P',\n",
       "  '0Q',\n",
       "  '0R',\n",
       "  '0S',\n",
       "  '0T',\n",
       "  '0U',\n",
       "  '0V',\n",
       "  '0W',\n",
       "  '0X',\n",
       "  '0Y',\n",
       "  '0Z',\n",
       "  '10',\n",
       "  '11',\n",
       "  '12',\n",
       "  '13',\n",
       "  '14',\n",
       "  '15',\n",
       "  '16',\n",
       "  '17',\n",
       "  '18',\n",
       "  '19',\n",
       "  '1A',\n",
       "  '1B',\n",
       "  '1C',\n",
       "  '1D',\n",
       "  '1E',\n",
       "  '1F',\n",
       "  '1G',\n",
       "  '1H',\n",
       "  '1I',\n",
       "  '1J',\n",
       "  '1K',\n",
       "  '1L',\n",
       "  '1M',\n",
       "  '1N',\n",
       "  '1O',\n",
       "  '1P',\n",
       "  '1Q',\n",
       "  '1R',\n",
       "  '1S',\n",
       "  '1T',\n",
       "  '1U',\n",
       "  '1V',\n",
       "  '1W',\n",
       "  '1X',\n",
       "  '1Y',\n",
       "  '1Z',\n",
       "  '20',\n",
       "  '21',\n",
       "  '22',\n",
       "  '23',\n",
       "  '24',\n",
       "  '25',\n",
       "  '26',\n",
       "  '27',\n",
       "  '28',\n",
       "  '29',\n",
       "  '2A',\n",
       "  '2B',\n",
       "  '2C',\n",
       "  '2D',\n",
       "  '2E',\n",
       "  '2F',\n",
       "  '2G',\n",
       "  '2H',\n",
       "  '2I',\n",
       "  '2J',\n",
       "  '2K',\n",
       "  '2L',\n",
       "  '2M',\n",
       "  '2N',\n",
       "  '2O',\n",
       "  '2P',\n",
       "  '2Q',\n",
       "  '2R',\n",
       "  '2S',\n",
       "  '2T',\n",
       "  '2U',\n",
       "  '2V',\n",
       "  '2W',\n",
       "  '2X',\n",
       "  '2Y',\n",
       "  '2Z',\n",
       "  '30',\n",
       "  '31',\n",
       "  '32',\n",
       "  '33',\n",
       "  '34',\n",
       "  '35',\n",
       "  '36',\n",
       "  '37',\n",
       "  '38',\n",
       "  '39',\n",
       "  '3A',\n",
       "  '3B',\n",
       "  '3C',\n",
       "  '3D',\n",
       "  '3E',\n",
       "  '3F',\n",
       "  '3G',\n",
       "  '3H',\n",
       "  '3I',\n",
       "  '3J',\n",
       "  '3K',\n",
       "  '3L',\n",
       "  '3M',\n",
       "  '3N',\n",
       "  '3O',\n",
       "  '3P',\n",
       "  '3Q',\n",
       "  '3R',\n",
       "  '3S',\n",
       "  '3T',\n",
       "  '3U',\n",
       "  '3V',\n",
       "  '3W',\n",
       "  '3X',\n",
       "  '3Y',\n",
       "  '3Z',\n",
       "  '40',\n",
       "  '41',\n",
       "  '42',\n",
       "  '43',\n",
       "  '44',\n",
       "  '45',\n",
       "  '46',\n",
       "  '47',\n",
       "  '48',\n",
       "  '49',\n",
       "  '4A',\n",
       "  '4B',\n",
       "  '4C',\n",
       "  '4F',\n",
       "  '4G',\n",
       "  '4H',\n",
       "  '4I',\n",
       "  '4J',\n",
       "  '4K',\n",
       "  '4L',\n",
       "  '4M',\n",
       "  '4N',\n",
       "  '4O',\n",
       "  '4P',\n",
       "  '4Q',\n",
       "  '4R',\n",
       "  '4S',\n",
       "  '4T',\n",
       "  '4U',\n",
       "  '4V',\n",
       "  '4W',\n",
       "  '4X',\n",
       "  '4Y',\n",
       "  '4Z',\n",
       "  '51',\n",
       "  '52',\n",
       "  '53',\n",
       "  '56',\n",
       "  '57',\n",
       "  '58',\n",
       "  '59',\n",
       "  '5A',\n",
       "  '5B',\n",
       "  '5C',\n",
       "  '5D',\n",
       "  '5E',\n",
       "  '5F',\n",
       "  '5G',\n",
       "  '5H',\n",
       "  '5I',\n",
       "  '5J',\n",
       "  '5K',\n",
       "  '5L',\n",
       "  '5M',\n",
       "  '5N',\n",
       "  '5O',\n",
       "  '5P',\n",
       "  '5Q',\n",
       "  '5R',\n",
       "  '5S',\n",
       "  '5T',\n",
       "  '5U',\n",
       "  '5V',\n",
       "  '5W',\n",
       "  '5X',\n",
       "  '5Y',\n",
       "  '5Z',\n",
       "  '60',\n",
       "  '61',\n",
       "  '62',\n",
       "  '63',\n",
       "  '64',\n",
       "  '65',\n",
       "  '66',\n",
       "  '67',\n",
       "  '68',\n",
       "  '69',\n",
       "  '6A',\n",
       "  '6B',\n",
       "  '6C',\n",
       "  '6D',\n",
       "  '6E',\n",
       "  '6F',\n",
       "  '6G',\n",
       "  '6H',\n",
       "  '6I',\n",
       "  '6J',\n",
       "  '6K',\n",
       "  '6L',\n",
       "  '6M',\n",
       "  '6N',\n",
       "  '6O',\n",
       "  '6P',\n",
       "  '6Q',\n",
       "  '6R',\n",
       "  '6S',\n",
       "  '6T',\n",
       "  '6U',\n",
       "  '6V',\n",
       "  '6W',\n",
       "  '6X',\n",
       "  '6Y',\n",
       "  '6Z',\n",
       "  '70',\n",
       "  '71',\n",
       "  '72',\n",
       "  '73',\n",
       "  '74',\n",
       "  '75',\n",
       "  '76',\n",
       "  '77',\n",
       "  '78',\n",
       "  '79',\n",
       "  '7A',\n",
       "  '7B',\n",
       "  '7C',\n",
       "  '7D',\n",
       "  '7E',\n",
       "  '7F',\n",
       "  '7G',\n",
       "  '7H',\n",
       "  '7I',\n",
       "  '7J',\n",
       "  '7K',\n",
       "  '7L',\n",
       "  '7M',\n",
       "  '7R',\n",
       "  '7S',\n",
       "  '7T',\n",
       "  '7U',\n",
       "  '7V',\n",
       "  '7W',\n",
       "  '7X',\n",
       "  '7Y',\n",
       "  '7Z',\n",
       "  '80',\n",
       "  '81',\n",
       "  '82',\n",
       "  '83',\n",
       "  '84',\n",
       "  '85',\n",
       "  '86',\n",
       "  '87',\n",
       "  '88',\n",
       "  '89',\n",
       "  '8A',\n",
       "  '8B',\n",
       "  '8C',\n",
       "  '8D',\n",
       "  '8E',\n",
       "  '8F',\n",
       "  '8G',\n",
       "  '8H',\n",
       "  '8I',\n",
       "  '8J',\n",
       "  '8K',\n",
       "  '8L',\n",
       "  '8M',\n",
       "  '8N',\n",
       "  '8O',\n",
       "  '8P',\n",
       "  '8Q',\n",
       "  '8R',\n",
       "  '8T',\n",
       "  '8U',\n",
       "  '8V',\n",
       "  '8W',\n",
       "  '8X',\n",
       "  '90',\n",
       "  '92',\n",
       "  '93',\n",
       "  '94',\n",
       "  '95',\n",
       "  '96',\n",
       "  '97',\n",
       "  '98',\n",
       "  '9A',\n",
       "  '9B',\n",
       "  '9C',\n",
       "  '9D',\n",
       "  '9E',\n",
       "  '9I',\n",
       "  '9J',\n",
       "  '9K',\n",
       "  '9L',\n",
       "  '9M',\n",
       "  '9N',\n",
       "  '9O',\n",
       "  '9R',\n",
       "  '9S',\n",
       "  '9T',\n",
       "  '9U',\n",
       "  '9V',\n",
       "  '9W',\n",
       "  '9X',\n",
       "  '9Y',\n",
       "  '9Z',\n",
       "  'A0',\n",
       "  'A1',\n",
       "  'A2',\n",
       "  'AA',\n",
       "  'AB',\n",
       "  'AC',\n",
       "  'AD',\n",
       "  'AE',\n",
       "  'AF',\n",
       "  'AG',\n",
       "  'AH',\n",
       "  'AI',\n",
       "  'AJ',\n",
       "  'AL',\n",
       "  'AM',\n",
       "  'AN',\n",
       "  'AO',\n",
       "  'AP',\n",
       "  'AR',\n",
       "  'AS',\n",
       "  'AT',\n",
       "  'AU',\n",
       "  'AX',\n",
       "  'AZ',\n",
       "  'B0',\n",
       "  'B1',\n",
       "  'B2',\n",
       "  'BL',\n",
       "  'BO',\n",
       "  'BR',\n",
       "  'C0',\n",
       "  'C1',\n",
       "  'C2',\n",
       "  'CA',\n",
       "  'CH',\n",
       "  'CI',\n",
       "  'CL',\n",
       "  'CM',\n",
       "  'CN',\n",
       "  'CR',\n",
       "  'CS',\n",
       "  'D0',\n",
       "  'D1',\n",
       "  'D2',\n",
       "  'DE',\n",
       "  'DI',\n",
       "  'DM',\n",
       "  'DN',\n",
       "  'DP',\n",
       "  'DT',\n",
       "  'E0',\n",
       "  'E1',\n",
       "  'E2',\n",
       "  'EA',\n",
       "  'EB',\n",
       "  'EE',\n",
       "  'EF',\n",
       "  'EM',\n",
       "  'EN',\n",
       "  'EO',\n",
       "  'EP',\n",
       "  'ER',\n",
       "  'EU',\n",
       "  'F0',\n",
       "  'F1',\n",
       "  'F2',\n",
       "  'FD',\n",
       "  'FY',\n",
       "  'G0',\n",
       "  'G1',\n",
       "  'G2',\n",
       "  'GL',\n",
       "  'GR',\n",
       "  'GS',\n",
       "  'H0',\n",
       "  'H1',\n",
       "  'H2',\n",
       "  'HA',\n",
       "  'HB',\n",
       "  'HC',\n",
       "  'HD',\n",
       "  'HE',\n",
       "  'HL',\n",
       "  'HM',\n",
       "  'HN',\n",
       "  'HP',\n",
       "  'HR',\n",
       "  'HT',\n",
       "  'I0',\n",
       "  'I1',\n",
       "  'I2',\n",
       "  'IA',\n",
       "  'ID',\n",
       "  'IR',\n",
       "  'J0',\n",
       "  'J1',\n",
       "  'J2',\n",
       "  'K0',\n",
       "  'K1',\n",
       "  'K2',\n",
       "  'L0',\n",
       "  'L1',\n",
       "  'L2',\n",
       "  'LA',\n",
       "  'LE',\n",
       "  'LT',\n",
       "  'LY',\n",
       "  'M0',\n",
       "  'M1',\n",
       "  'M2',\n",
       "  'MC',\n",
       "  'ME',\n",
       "  'MG',\n",
       "  'MO',\n",
       "  'MR',\n",
       "  'MT',\n",
       "  'N0',\n",
       "  'N1',\n",
       "  'N2',\n",
       "  'NE',\n",
       "  'NI',\n",
       "  'NO',\n",
       "  'NR',\n",
       "  'O0',\n",
       "  'O1',\n",
       "  'O2',\n",
       "  'OC',\n",
       "  'OD',\n",
       "  'OG',\n",
       "  'OT',\n",
       "  'P0',\n",
       "  'P1',\n",
       "  'P2',\n",
       "  'PA',\n",
       "  'PB',\n",
       "  'PC',\n",
       "  'PD',\n",
       "  'PE',\n",
       "  'PH',\n",
       "  'PL',\n",
       "  'PN',\n",
       "  'PO',\n",
       "  'PP',\n",
       "  'PR',\n",
       "  'PS',\n",
       "  'PT',\n",
       "  'PX',\n",
       "  'Q0',\n",
       "  'Q1',\n",
       "  'Q2',\n",
       "  'R0',\n",
       "  'R1',\n",
       "  'R2',\n",
       "  'RA',\n",
       "  'RH',\n",
       "  'RO',\n",
       "  'RU',\n",
       "  'S0',\n",
       "  'S1',\n",
       "  'S2',\n",
       "  'SA',\n",
       "  'SE',\n",
       "  'SF',\n",
       "  'SI',\n",
       "  'SL',\n",
       "  'SP',\n",
       "  'ST',\n",
       "  'T0',\n",
       "  'T1',\n",
       "  'T2',\n",
       "  'TA',\n",
       "  'TE',\n",
       "  'TH',\n",
       "  'TI',\n",
       "  'TL',\n",
       "  'TM',\n",
       "  'TR',\n",
       "  'TS',\n",
       "  'TT',\n",
       "  'TU',\n",
       "  'TY',\n",
       "  'U0',\n",
       "  'U1',\n",
       "  'U2',\n",
       "  'V0',\n",
       "  'V1',\n",
       "  'V2',\n",
       "  'W0',\n",
       "  'W1',\n",
       "  'W2',\n",
       "  'WI',\n",
       "  'X0',\n",
       "  'X1',\n",
       "  'X2',\n",
       "  'XA',\n",
       "  'XB',\n",
       "  'Y0',\n",
       "  'Y1',\n",
       "  'Z0',\n",
       "  'Z1',\n",
       "  'ZE',\n",
       "  'ZF'},\n",
       " {'9Q', 'HO', 'MU'},\n",
       " {'7N', '7O', '7P'},\n",
       " {'9F', '9G'},\n",
       " {'8Y', '8Z'},\n",
       " {'CT', 'PU'},\n",
       " {'54', '55'},\n",
       " {'9H'},\n",
       " {'9P'},\n",
       " {'99'},\n",
       " {'91'},\n",
       " {'7Q'}]"
      ]
     },
     "execution_count": 18,
     "metadata": {},
     "output_type": "execute_result"
    }
   ],
   "source": [
    "# View members of different subgraphs\n",
    "sorted(nx.connected_components(G), key = len, reverse=True)"
   ]
  },
  {
   "cell_type": "markdown",
   "metadata": {
    "slideshow": {
     "slide_type": "skip"
    }
   },
   "source": [
    "To correct for this, we will use the number of nodes in the `Grey` subgraph instead of the total number of nodes to calculated degree centrality.  Additionally, we'll normalized to `(n-1)/(|G|-1)` where `n` is the number of nodes in the connected part of graph containing the node."
   ]
  },
  {
   "cell_type": "code",
   "execution_count": 19,
   "metadata": {
    "collapsed": false,
    "slideshow": {
     "slide_type": "skip"
    }
   },
   "outputs": [
    {
     "name": "stdout",
     "output_type": "stream",
     "text": [
      "('Calculated closeness centrality for HT (normalized):', 0.4817001316655694)\n",
      "('Networkx closeness centrality for HT:', 0.4817001316655694)\n"
     ]
    }
   ],
   "source": [
    "total_nodes_minus_HT_sub = len(HT_shortest_path)-1.0  \n",
    "\n",
    "# Closeness centrality for HT (unnormalized)\n",
    "closeness_centrality_HT = (total_nodes_minus_HT_sub / HT_sum_shortest_path) \n",
    "\n",
    "# Closeness centrality for HT (normalized)\n",
    "closeness_centrality_HT_normalized = closeness_centrality_HT * (total_nodes_minus_HT_sub/total_nodes_minus_HT)\n",
    "print(\"Calculated closeness centrality for HT (normalized):\", closeness_centrality_HT_normalized)\n",
    "\n",
    "# Double check\n",
    "print(\"Networkx closeness centrality for HT:\", nx.closeness_centrality(G)[\"HT\"])\n",
    "\n"
   ]
  },
  {
   "cell_type": "markdown",
   "metadata": {
    "slideshow": {
     "slide_type": "skip"
    }
   },
   "source": [
    "Let's find the closeness centrality for all characters."
   ]
  },
  {
   "cell_type": "code",
   "execution_count": 20,
   "metadata": {
    "collapsed": false,
    "slideshow": {
     "slide_type": "subslide"
    }
   },
   "outputs": [
    {
     "data": {
      "text/plain": [
       "[('HT', 0.4817001316655694),\n",
       " ('AC', 0.4517239782689221),\n",
       " ('AJ', 0.4486220110361741),\n",
       " ('ME', 0.4359004527582509),\n",
       " ('AG', 0.43481251485619204),\n",
       " ('ID', 0.424914343786295),\n",
       " ('PA', 0.42250981637602497),\n",
       " ('AE', 0.42182779891617667),\n",
       " ('DI', 0.42013234956361967),\n",
       " ('OD', 0.4194579798211419)]"
      ]
     },
     "execution_count": 20,
     "metadata": {},
     "output_type": "execute_result"
    }
   ],
   "source": [
    "# top 5\n",
    "sorted(nx.closeness_centrality(G).items(), key=lambda x: x[1], reverse=True)[:10]"
   ]
  },
  {
   "cell_type": "code",
   "execution_count": 21,
   "metadata": {
    "collapsed": false,
    "slideshow": {
     "slide_type": "skip"
    }
   },
   "outputs": [],
   "source": [
    "# apply measurements back to Graph\n",
    "nx.set_node_attributes(G, 'closeness centrality', nx.closeness_centrality(G))"
   ]
  },
  {
   "cell_type": "code",
   "execution_count": 22,
   "metadata": {
    "collapsed": false,
    "slideshow": {
     "slide_type": "fragment"
    }
   },
   "outputs": [
    {
     "data": {
      "text/plain": [
       "2.075980333537196"
      ]
     },
     "execution_count": 22,
     "metadata": {},
     "output_type": "execute_result"
    }
   ],
   "source": [
    "# average distance of torres:\n",
    "1.0 / nx.closeness_centrality(G)['HT']"
   ]
  },
  {
   "cell_type": "code",
   "execution_count": 23,
   "metadata": {
    "collapsed": false,
    "slideshow": {
     "slide_type": "skip"
    }
   },
   "outputs": [
    {
     "data": {
      "text/plain": [
       "0.0125"
      ]
     },
     "execution_count": 23,
     "metadata": {},
     "output_type": "execute_result"
    }
   ],
   "source": [
    "7.0/(len(G.nodes()) - 1)"
   ]
  },
  {
   "cell_type": "markdown",
   "metadata": {
    "slideshow": {
     "slide_type": "slide"
    }
   },
   "source": [
    "## Betweeness Centrality\n",
    "\n",
    "Betweenness centrality quantifies the number of times a node acts as a bridge (or \"broker\") along the shortest path between two other nodes.  \n",
    "\n",
    "![](https://intl520-summer2011-mas.wikispaces.com/file/view/Simple_Network.gif/238734999/480x360/Simple_Network.gif)\n",
    "\n",
    "In this conception, vertices that have a high probability to occur on a randomly chosen shortest path between two randomly chosen vertices have a high betweenness.\n",
    "\n",
    "$$ C_B(v) =\\sum_{s,t \\in V} \\frac{\\sigma(s, t|v)}{\\sigma(s, t)} $$\n",
    "\n",
    "where ${\\sigma(s, t)}$ is total number of shortest paths from node ${s}$ to node ${t}$ and ${\\sigma(s, t|v)}$ is the number of those paths that pass through ${v}$."
   ]
  },
  {
   "cell_type": "code",
   "execution_count": 24,
   "metadata": {
    "collapsed": false,
    "slideshow": {
     "slide_type": "subslide"
    }
   },
   "outputs": [
    {
     "data": {
      "text/plain": [
       "[('HT', 0.19131431268202634),\n",
       " ('AC', 0.14640047681018026),\n",
       " ('ZE', 0.12081717159174206),\n",
       " ('PA', 0.11723025111218698),\n",
       " ('DI', 0.09568780719639298),\n",
       " ('AJ', 0.08282840466535288),\n",
       " ('AG', 0.07800112358900067),\n",
       " ('OD', 0.07390508548135778),\n",
       " ('NE', 0.0634385980129927),\n",
       " ('TU', 0.0601215568703468)]"
      ]
     },
     "execution_count": 24,
     "metadata": {},
     "output_type": "execute_result"
    }
   ],
   "source": [
    "# top 5\n",
    "sorted(nx.betweenness_centrality(G).items(), key=lambda x: x[1], reverse=True)[:10]"
   ]
  },
  {
   "cell_type": "markdown",
   "metadata": {
    "slideshow": {
     "slide_type": "slide"
    }
   },
   "source": [
    "## Eigenvector Centrality\n",
    "\n",
    "A node is high in eigenvector centrality if it is connected to many other nodes who are themselves well connected. Eigenvector centrality for each node is simply calculated as the proportional eigenvector values of the eigenvector with the largest eigenvalue.\n",
    "\n",
    "<img align=\"middle\" src=\"https://upload.wikimedia.org/wikipedia/commons/thumb/1/11/6_centrality_measures.png/350px-6_centrality_measures.png\">\n",
    "\n",
    "_**Middle Left (\"C\"):** Eigenvector Centrality.  **Middle Right (\"D\"):** Degree Centrality_\n",
    "\n"
   ]
  },
  {
   "cell_type": "code",
   "execution_count": 25,
   "metadata": {
    "collapsed": false,
    "slideshow": {
     "slide_type": "subslide"
    }
   },
   "outputs": [
    {
     "data": {
      "text/plain": [
       "[('HT', 0.2732672134886092),\n",
       " ('AJ', 0.24370735756581183),\n",
       " ('ME', 0.2226564876424225),\n",
       " ('AC', 0.21454142287646874),\n",
       " ('AG', 0.1971559650809236),\n",
       " ('ID', 0.19129133420406483),\n",
       " ('AE', 0.18826433159201084),\n",
       " ('DI', 0.1800508335223),\n",
       " ('OD', 0.17418825232495452),\n",
       " ('MR', 0.1706516941671915)]"
      ]
     },
     "execution_count": 25,
     "metadata": {},
     "output_type": "execute_result"
    }
   ],
   "source": [
    "sorted(nx.eigenvector_centrality_numpy(G).items(), key=lambda x: x[1], reverse=True)[:10]"
   ]
  },
  {
   "cell_type": "code",
   "execution_count": 26,
   "metadata": {
    "collapsed": false,
    "slideshow": {
     "slide_type": "subslide"
    }
   },
   "outputs": [
    {
     "data": {
      "text/plain": [
       "[('HT', 1.0000145775616422),\n",
       " ('AJ', 0.8918076743088809),\n",
       " ('ME', 0.8147831853842831),\n",
       " ('AC', 0.7851122346817023),\n",
       " ('AG', 0.7214677341081158),\n",
       " ('ID', 0.7000022167495109),\n",
       " ('AE', 0.6889410568225733),\n",
       " ('DI', 0.6588763467490693),\n",
       " ('OD', 0.6374093786379681),\n",
       " ('MR', 0.6244619594480233)]"
      ]
     },
     "execution_count": 26,
     "metadata": {},
     "output_type": "execute_result"
    }
   ],
   "source": [
    "max_value = max(nx.eigenvector_centrality_numpy(G).items(), key=lambda x: x[1])\n",
    "\n",
    "ec_scaled = {}\n",
    "for k in nx.eigenvector_centrality(G).keys():\n",
    "    ec_scaled[k] = nx.eigenvector_centrality(G)[k] / max_value[1]\n",
    "\n",
    "# Scaled by the most central character (karev)\n",
    "sorted(ec_scaled.items(), key=lambda x:x[1], reverse=True)[0:10]"
   ]
  },
  {
   "cell_type": "markdown",
   "metadata": {
    "slideshow": {
     "slide_type": "slide"
    }
   },
   "source": [
    "## Harmonic Centrality\n",
    "\n"
   ]
  },
  {
   "cell_type": "code",
   "execution_count": 27,
   "metadata": {
    "collapsed": false
   },
   "outputs": [
    {
     "data": {
      "text/plain": [
       "[('HT', 304.15),\n",
       " ('AC', 285.1833333333336),\n",
       " ('AJ', 279.93333333333385),\n",
       " ('ME', 272.13333333333384),\n",
       " ('AG', 271.4666666666671),\n",
       " ('PA', 267.75000000000045),\n",
       " ('ZE', 263.60000000000036),\n",
       " ('OD', 263.4666666666673),\n",
       " ('DI', 263.0500000000008),\n",
       " ('ID', 261.71666666666715)]"
      ]
     },
     "execution_count": 27,
     "metadata": {},
     "output_type": "execute_result"
    }
   ],
   "source": [
    "sorted(nx.harmonic_centrality(G).items(), key=lambda x: x[1], reverse=True)[:10]"
   ]
  },
  {
   "cell_type": "markdown",
   "metadata": {
    "collapsed": false,
    "slideshow": {
     "slide_type": "slide"
    }
   },
   "source": [
    "## Other Centrality Measures\n",
    "\n",
    "* [Harmonic Centrality](https://networkx.readthedocs.io/en/latest/reference/generated/networkx.algorithms.centrality.harmonic_centrality.html)\n",
    "* [Katz Centrality](https://en.wikipedia.org/wiki/Katz_centrality)\n",
    "* [Game Theoretic Centrality](http://game-theoretic-centrality.com/)\n"
   ]
  }
 ],
 "metadata": {
  "anaconda-cloud": {},
  "celltoolbar": "Slideshow",
  "kernelspec": {
   "display_name": "Python [python2]",
   "language": "python",
   "name": "Python [python2]"
  },
  "language_info": {
   "codemirror_mode": {
    "name": "ipython",
    "version": 2
   },
   "file_extension": ".py",
   "mimetype": "text/x-python",
   "name": "python",
   "nbconvert_exporter": "python",
   "pygments_lexer": "ipython2",
   "version": "2.7.12"
  }
 },
 "nbformat": 4,
 "nbformat_minor": 0
}
